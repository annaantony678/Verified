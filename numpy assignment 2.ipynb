{
 "cells": [
  {
   "cell_type": "markdown",
   "metadata": {},
   "source": [
    "# Numpy Assignment2"
   ]
  },
  {
   "cell_type": "code",
   "execution_count": 1,
   "metadata": {},
   "outputs": [],
   "source": [
    "import numpy as np\n",
    "import scipy.linalg as la\n",
    "import matplotlib.pyplot as plt"
   ]
  },
  {
   "cell_type": "code",
   "execution_count": 2,
   "metadata": {},
   "outputs": [],
   "source": [
    "#1.Choose a value and set the variable x to that value"
   ]
  },
  {
   "cell_type": "code",
   "execution_count": 1,
   "metadata": {},
   "outputs": [
    {
     "name": "stdout",
     "output_type": "stream",
     "text": [
      "4\n"
     ]
    }
   ],
   "source": [
    "x=4\n",
    "print(x)"
   ]
  },
  {
   "cell_type": "code",
   "execution_count": 2,
   "metadata": {},
   "outputs": [],
   "source": [
    "#2"
   ]
  },
  {
   "cell_type": "code",
   "execution_count": 6,
   "metadata": {},
   "outputs": [
    {
     "name": "stdout",
     "output_type": "stream",
     "text": [
      "16\n"
     ]
    }
   ],
   "source": [
    "x1=x**2\n",
    "print(x1)"
   ]
  },
  {
   "cell_type": "code",
   "execution_count": 7,
   "metadata": {},
   "outputs": [
    {
     "name": "stdout",
     "output_type": "stream",
     "text": [
      "64\n"
     ]
    }
   ],
   "source": [
    "x2=x**3\n",
    "print(x2)"
   ]
  },
  {
   "cell_type": "code",
   "execution_count": 8,
   "metadata": {},
   "outputs": [],
   "source": [
    "#3"
   ]
  },
  {
   "cell_type": "code",
   "execution_count": 9,
   "metadata": {},
   "outputs": [],
   "source": [
    "import numpy as np"
   ]
  },
  {
   "cell_type": "code",
   "execution_count": 10,
   "metadata": {},
   "outputs": [
    {
     "name": "stdout",
     "output_type": "stream",
     "text": [
      "[2, 4, 7, 8]\n"
     ]
    }
   ],
   "source": [
    "z=([2,4,7,8])\n",
    "print(z)"
   ]
  },
  {
   "cell_type": "code",
   "execution_count": 11,
   "metadata": {},
   "outputs": [
    {
     "data": {
      "text/plain": [
       "array([0., 0., 0., 0.])"
      ]
     },
     "execution_count": 11,
     "metadata": {},
     "output_type": "execute_result"
    }
   ],
   "source": [
    "np.angle(z,deg=0)"
   ]
  },
  {
   "cell_type": "code",
   "execution_count": 12,
   "metadata": {},
   "outputs": [],
   "source": [
    "#4"
   ]
  },
  {
   "cell_type": "code",
   "execution_count": 13,
   "metadata": {},
   "outputs": [
    {
     "data": {
      "text/plain": [
       "array([-0.41614684, -0.65364362,  0.75390225, -0.14550003])"
      ]
     },
     "execution_count": 13,
     "metadata": {},
     "output_type": "execute_result"
    }
   ],
   "source": [
    "np.cos(z)"
   ]
  },
  {
   "cell_type": "code",
   "execution_count": 14,
   "metadata": {},
   "outputs": [
    {
     "data": {
      "text/plain": [
       "array([ 0.90929743, -0.7568025 ,  0.6569866 ,  0.98935825])"
      ]
     },
     "execution_count": 14,
     "metadata": {},
     "output_type": "execute_result"
    }
   ],
   "source": [
    "np.sin(z)"
   ]
  },
  {
   "cell_type": "code",
   "execution_count": 15,
   "metadata": {},
   "outputs": [],
   "source": [
    "#5"
   ]
  },
  {
   "cell_type": "code",
   "execution_count": 16,
   "metadata": {},
   "outputs": [
    {
     "name": "stdout",
     "output_type": "stream",
     "text": [
      "[  1   2   3   4   5   6   7   8   9  10  11  12  13  14  15  16  17  18\n",
      "  19  20  21  22  23  24  25  26  27  28  29  30  31  32  33  34  35  36\n",
      "  37  38  39  40  41  42  43  44  45  46  47  48  49  50  51  52  53  54\n",
      "  55  56  57  58  59  60  61  62  63  64  65  66  67  68  69  70  71  72\n",
      "  73  74  75  76  77  78  79  80  81  82  83  84  85  86  87  88  89  90\n",
      "  91  92  93  94  95  96  97  98  99 100 101 102 103 104 105 106 107 108\n",
      " 109 110 111 112 113 114 115 116 117 118 119 120 121 122 123 124 125 126\n",
      " 127 128 129 130 131 132 133 134 135 136 137 138 139 140 141 142 143 144\n",
      " 145 146 147 148 149 150 151 152 153 154 155 156 157 158 159 160 161 162\n",
      " 163 164 165 166 167 168 169 170 171 172 173 174 175 176 177 178 179 180\n",
      " 181 182 183 184 185 186 187 188 189 190 191 192 193 194 195 196 197 198\n",
      " 199 200 201 202 203 204 205 206 207 208 209 210 211 212 213 214 215 216\n",
      " 217 218 219 220 221 222 223 224 225 226 227 228 229 230 231 232 233 234\n",
      " 235 236 237 238 239 240 241 242 243 244 245 246 247 248 249 250 251 252\n",
      " 253 254 255 256 257 258 259 260 261 262 263 264 265 266 267 268 269 270\n",
      " 271 272 273 274 275 276 277 278 279 280 281 282 283 284 285 286 287 288\n",
      " 289 290 291 292 293 294 295 296 297 298 299 300 301 302 303 304 305 306\n",
      " 307 308 309 310 311 312 313 314 315 316 317 318 319 320 321 322 323 324\n",
      " 325 326 327 328 329 330 331 332 333 334 335 336 337 338 339 340 341 342\n",
      " 343 344 345 346 347 348 349 350 351 352 353 354 355 356 357 358 359 360\n",
      " 361 362 363 364 365 366 367 368 369 370 371 372 373 374 375 376 377 378\n",
      " 379 380 381 382 383 384 385 386 387 388 389 390 391 392 393 394 395 396\n",
      " 397 398 399 400 401 402 403 404 405 406 407 408 409 410 411 412 413 414\n",
      " 415 416 417 418 419 420 421 422 423 424 425 426 427 428 429 430 431 432\n",
      " 433 434 435 436 437 438 439 440 441 442 443 444 445 446 447 448 449 450\n",
      " 451 452 453 454 455 456 457 458 459 460 461 462 463 464 465 466 467 468\n",
      " 469 470 471 472 473 474 475 476 477 478 479 480 481 482 483 484 485 486\n",
      " 487 488 489 490 491 492 493 494 495 496 497 498 499 500]\n"
     ]
    }
   ],
   "source": [
    "f=np.arange(1,501)\n",
    "print(f)"
   ]
  },
  {
   "cell_type": "code",
   "execution_count": 17,
   "metadata": {},
   "outputs": [
    {
     "name": "stdout",
     "output_type": "stream",
     "text": [
      "[[  1.           2.           3.         ... 498.         499.\n",
      "  500.        ]\n",
      " [ 11.18367347  12.16326531  13.14285714 ... 498.04081633 499.02040816\n",
      "  500.        ]\n",
      " [ 21.36734694  22.32653061  23.28571429 ... 498.08163265 499.04081633\n",
      "  500.        ]\n",
      " ...\n",
      " [479.63265306 479.67346939 479.71428571 ... 499.91836735 499.95918367\n",
      "  500.        ]\n",
      " [489.81632653 489.83673469 489.85714286 ... 499.95918367 499.97959184\n",
      "  500.        ]\n",
      " [500.         500.         500.         ... 500.         500.\n",
      "  500.        ]]\n"
     ]
    }
   ],
   "source": [
    "Y=np.linspace(f,500)\n",
    "print(Y)"
   ]
  },
  {
   "cell_type": "code",
   "execution_count": 18,
   "metadata": {},
   "outputs": [],
   "source": [
    "#6"
   ]
  },
  {
   "cell_type": "code",
   "execution_count": 21,
   "metadata": {},
   "outputs": [
    {
     "name": "stdout",
     "output_type": "stream",
     "text": [
      "[[[  1.           2.           3.         ... 498.         499.\n",
      "   500.        ]\n",
      "  [ 11.18367347  12.16326531  13.14285714 ... 498.04081633 499.02040816\n",
      "   500.        ]\n",
      "  [ 21.36734694  22.32653061  23.28571429 ... 498.08163265 499.04081633\n",
      "   500.        ]\n",
      "  ...\n",
      "  [479.63265306 479.67346939 479.71428571 ... 499.91836735 499.95918367\n",
      "   500.        ]\n",
      "  [489.81632653 489.83673469 489.85714286 ... 499.95918367 499.97959184\n",
      "   500.        ]\n",
      "  [500.         500.         500.         ... 500.         500.\n",
      "   500.        ]]\n",
      "\n",
      " [[  2.06122449   3.04081633   4.02040816 ... 488.91836735 489.89795918\n",
      "   490.87755102]\n",
      "  [ 12.03706789  12.99666805  13.95626822 ... 488.95835069 489.91795085\n",
      "   490.87755102]\n",
      "  [ 22.01291129  22.95251978  23.89212828 ... 488.99833403 489.93794252\n",
      "   490.87755102]\n",
      "  ...\n",
      "  [470.92586422 470.96584756 471.0058309  ... 490.79758434 490.83756768\n",
      "   490.87755102]\n",
      "  [480.90170762 480.92169929 480.94169096 ... 490.83756768 490.85755935\n",
      "   490.87755102]\n",
      "  [490.87755102 490.87755102 490.87755102 ... 490.87755102 490.87755102\n",
      "   490.87755102]]\n",
      "\n",
      " [[  3.12244898   4.08163265   5.04081633 ... 479.83673469 480.79591837\n",
      "   481.75510204]\n",
      "  [ 12.89046231  13.8300708   14.7696793  ... 479.87588505 480.81549354\n",
      "   481.75510204]\n",
      "  [ 22.65847564  23.57850895  24.49854227 ... 479.9150354  480.83506872\n",
      "   481.75510204]\n",
      "  ...\n",
      "  [462.21907539 462.25822574 462.29737609 ... 481.67680133 481.71595169\n",
      "   481.75510204]\n",
      "  [471.98708871 472.00666389 472.02623907 ... 481.71595169 481.73552686\n",
      "   481.75510204]\n",
      "  [481.75510204 481.75510204 481.75510204 ... 481.75510204 481.75510204\n",
      "   481.75510204]]\n",
      "\n",
      " ...\n",
      "\n",
      " [[ 50.87755102  50.91836735  50.95918367 ...  71.16326531  71.20408163\n",
      "    71.24489796]\n",
      "  [ 51.29321116  51.3331945   51.37317784 ...  71.16493128  71.20491462\n",
      "    71.24489796]\n",
      "  [ 51.7088713   51.74802166  51.78717201 ...  71.16659725  71.20574761\n",
      "    71.24489796]\n",
      "  ...\n",
      "  [ 70.41357768  70.41524365  70.41690962 ...  71.24156601  71.24323199\n",
      "    71.24489796]\n",
      "  [ 70.82923782  70.8300708   70.83090379 ...  71.24323199  71.24406497\n",
      "    71.24489796]\n",
      "  [ 71.24489796  71.24489796  71.24489796 ...  71.24489796  71.24489796\n",
      "    71.24489796]]\n",
      "\n",
      " [[ 51.93877551  51.95918367  51.97959184 ...  62.08163265  62.10204082\n",
      "    62.12244898]\n",
      "  [ 52.14660558  52.16659725  52.18658892 ...  62.08246564  62.10245731\n",
      "    62.12244898]\n",
      "  [ 52.35443565  52.37401083  52.39358601 ...  62.08329863  62.1028738\n",
      "    62.12244898]\n",
      "  ...\n",
      "  [ 61.70678884  61.70762182  61.70845481 ...  62.12078301  62.12161599\n",
      "    62.12244898]\n",
      "  [ 61.91461891  61.9150354   61.9154519  ...  62.12161599  62.12203249\n",
      "    62.12244898]\n",
      "  [ 62.12244898  62.12244898  62.12244898 ...  62.12244898  62.12244898\n",
      "    62.12244898]]\n",
      "\n",
      " [[ 53.          53.          53.         ...  53.          53.\n",
      "    53.        ]\n",
      "  [ 53.          53.          53.         ...  53.          53.\n",
      "    53.        ]\n",
      "  [ 53.          53.          53.         ...  53.          53.\n",
      "    53.        ]\n",
      "  ...\n",
      "  [ 53.          53.          53.         ...  53.          53.\n",
      "    53.        ]\n",
      "  [ 53.          53.          53.         ...  53.          53.\n",
      "    53.        ]\n",
      "  [ 53.          53.          53.         ...  53.          53.\n",
      "    53.        ]]]\n"
     ]
    }
   ],
   "source": [
    "z=np.linspace(Y,53)\n",
    "print(z)"
   ]
  },
  {
   "cell_type": "markdown",
   "metadata": {},
   "source": [
    "# Exercise 2- Vector and Matrix operations"
   ]
  },
  {
   "cell_type": "code",
   "execution_count": 22,
   "metadata": {},
   "outputs": [],
   "source": [
    "import numpy as np"
   ]
  },
  {
   "cell_type": "code",
   "execution_count": 23,
   "metadata": {},
   "outputs": [],
   "source": [
    "#1"
   ]
  },
  {
   "cell_type": "code",
   "execution_count": 24,
   "metadata": {},
   "outputs": [],
   "source": [
    "vec=np.array([-1.,4.,-9.])\n",
    "mat1=np.array([[1.,3.,5.],[7.,-9.,2.],[4.,6.,8.]])"
   ]
  },
  {
   "cell_type": "code",
   "execution_count": 25,
   "metadata": {},
   "outputs": [
    {
     "name": "stdout",
     "output_type": "stream",
     "text": [
      "[-1.  4. -9.]\n"
     ]
    }
   ],
   "source": [
    "print(vec)"
   ]
  },
  {
   "cell_type": "code",
   "execution_count": 26,
   "metadata": {},
   "outputs": [
    {
     "name": "stdout",
     "output_type": "stream",
     "text": [
      "[[ 1.  3.  5.]\n",
      " [ 7. -9.  2.]\n",
      " [ 4.  6.  8.]]\n"
     ]
    }
   ],
   "source": [
    "print(mat1)"
   ]
  },
  {
   "cell_type": "code",
   "execution_count": 27,
   "metadata": {},
   "outputs": [
    {
     "data": {
      "text/plain": [
       "array([ -4.,  16., -36.])"
      ]
     },
     "execution_count": 27,
     "metadata": {},
     "output_type": "execute_result"
    }
   ],
   "source": [
    "vec1=(4)*vec\n",
    "vec1"
   ]
  },
  {
   "cell_type": "code",
   "execution_count": 28,
   "metadata": {},
   "outputs": [],
   "source": [
    "vec2=(np.pi/4)*vec"
   ]
  },
  {
   "cell_type": "code",
   "execution_count": 32,
   "metadata": {},
   "outputs": [],
   "source": [
    "vec2=(np.pi%4)*vec"
   ]
  },
  {
   "cell_type": "code",
   "execution_count": 29,
   "metadata": {},
   "outputs": [],
   "source": [
    "#2"
   ]
  },
  {
   "cell_type": "code",
   "execution_count": 31,
   "metadata": {},
   "outputs": [
    {
     "data": {
      "text/plain": [
       "array([-0.65364362, -0.95765948, -0.12796369])"
      ]
     },
     "execution_count": 31,
     "metadata": {},
     "output_type": "execute_result"
    }
   ],
   "source": [
    "vec3=np.cos(vec1)\n",
    "vec3"
   ]
  },
  {
   "cell_type": "code",
   "execution_count": 33,
   "metadata": {},
   "outputs": [
    {
     "data": {
      "text/plain": [
       "array([ 0.54030231, -0.65364362, -0.91113026])"
      ]
     },
     "execution_count": 33,
     "metadata": {},
     "output_type": "execute_result"
    }
   ],
   "source": [
    "vec4=np.cos(vec)\n",
    "vec4"
   ]
  },
  {
   "cell_type": "code",
   "execution_count": 34,
   "metadata": {},
   "outputs": [],
   "source": [
    "#3"
   ]
  },
  {
   "cell_type": "code",
   "execution_count": 35,
   "metadata": {},
   "outputs": [
    {
     "data": {
      "text/plain": [
       "array([ -5.30728724,  14.08468104, -36.25592738])"
      ]
     },
     "execution_count": 35,
     "metadata": {},
     "output_type": "execute_result"
    }
   ],
   "source": [
    "vec5=vec1+2*vec3\n",
    "vec5"
   ]
  },
  {
   "cell_type": "code",
   "execution_count": 42,
   "metadata": {},
   "outputs": [],
   "source": [
    "#4"
   ]
  },
  {
   "cell_type": "code",
   "execution_count": 43,
   "metadata": {},
   "outputs": [
    {
     "ename": "SyntaxError",
     "evalue": "invalid syntax (<ipython-input-43-80d672ae2498>, line 1)",
     "output_type": "error",
     "traceback": [
      "\u001b[1;36m  File \u001b[1;32m\"<ipython-input-43-80d672ae2498>\"\u001b[1;36m, line \u001b[1;32m1\u001b[0m\n\u001b[1;33m    import euclidean norm as la.norm\u001b[0m\n\u001b[1;37m                        ^\u001b[0m\n\u001b[1;31mSyntaxError\u001b[0m\u001b[1;31m:\u001b[0m invalid syntax\n"
     ]
    }
   ],
   "source": [
    "import euclidean norm as la.norm"
   ]
  },
  {
   "cell_type": "code",
   "execution_count": 44,
   "metadata": {},
   "outputs": [],
   "source": [
    "#5"
   ]
  },
  {
   "cell_type": "code",
   "execution_count": 45,
   "metadata": {},
   "outputs": [
    {
     "name": "stdout",
     "output_type": "stream",
     "text": [
      "[[ -1.  12. -45.]\n",
      " [ -7. -36. -18.]\n",
      " [ -4.  24. -72.]]\n"
     ]
    }
   ],
   "source": [
    "print(mat1*vec)"
   ]
  },
  {
   "cell_type": "code",
   "execution_count": 46,
   "metadata": {},
   "outputs": [],
   "source": [
    "#6"
   ]
  },
  {
   "cell_type": "code",
   "execution_count": 47,
   "metadata": {},
   "outputs": [
    {
     "data": {
      "text/plain": [
       "array([[ 1.,  7.,  4.],\n",
       "       [ 3., -9.,  6.],\n",
       "       [ 5.,  2.,  8.]])"
      ]
     },
     "execution_count": 47,
     "metadata": {},
     "output_type": "execute_result"
    }
   ],
   "source": [
    "mat1.transpose()"
   ]
  },
  {
   "cell_type": "code",
   "execution_count": 48,
   "metadata": {},
   "outputs": [],
   "source": [
    "#7"
   ]
  },
  {
   "cell_type": "code",
   "execution_count": 49,
   "metadata": {},
   "outputs": [
    {
     "data": {
      "text/plain": [
       "161.99999999999994"
      ]
     },
     "execution_count": 49,
     "metadata": {},
     "output_type": "execute_result"
    }
   ],
   "source": [
    "a=np.linalg.det(mat1)\n",
    "a"
   ]
  },
  {
   "cell_type": "code",
   "execution_count": 50,
   "metadata": {},
   "outputs": [],
   "source": [
    "#8"
   ]
  },
  {
   "cell_type": "code",
   "execution_count": 51,
   "metadata": {},
   "outputs": [
    {
     "data": {
      "text/plain": [
       "0.0"
      ]
     },
     "execution_count": 51,
     "metadata": {},
     "output_type": "execute_result"
    }
   ],
   "source": [
    "mat1.trace()"
   ]
  },
  {
   "cell_type": "code",
   "execution_count": 52,
   "metadata": {},
   "outputs": [
    {
     "data": {
      "text/plain": [
       "0.0"
      ]
     },
     "execution_count": 52,
     "metadata": {},
     "output_type": "execute_result"
    }
   ],
   "source": [
    "mat1.transpose().trace()"
   ]
  },
  {
   "cell_type": "code",
   "execution_count": 53,
   "metadata": {},
   "outputs": [],
   "source": [
    "#9"
   ]
  },
  {
   "cell_type": "code",
   "execution_count": 55,
   "metadata": {},
   "outputs": [
    {
     "data": {
      "text/plain": [
       "array([-1,  4, -9])"
      ]
     },
     "execution_count": 55,
     "metadata": {},
     "output_type": "execute_result"
    }
   ],
   "source": [
    "vec_x=np.array([-1,4,-9])\n",
    "vec_x"
   ]
  },
  {
   "cell_type": "code",
   "execution_count": 56,
   "metadata": {},
   "outputs": [],
   "source": [
    "min=vec_x[0];"
   ]
  },
  {
   "cell_type": "code",
   "execution_count": 57,
   "metadata": {},
   "outputs": [
    {
     "name": "stdout",
     "output_type": "stream",
     "text": [
      "smallest element in vec_x=-9\n"
     ]
    }
   ],
   "source": [
    "for i in range(0,len(vec_x)):\n",
    "    if(vec_x[i]<min):\n",
    "        min=vec_x[i];\n",
    "        print(\"smallest element in vec_x=\"+str(min));"
   ]
  },
  {
   "cell_type": "code",
   "execution_count": 58,
   "metadata": {},
   "outputs": [],
   "source": [
    "#11"
   ]
  },
  {
   "cell_type": "code",
   "execution_count": 59,
   "metadata": {},
   "outputs": [
    {
     "data": {
      "text/plain": [
       "-9.0"
      ]
     },
     "execution_count": 59,
     "metadata": {},
     "output_type": "execute_result"
    }
   ],
   "source": [
    "mat1.min()"
   ]
  },
  {
   "cell_type": "code",
   "execution_count": 60,
   "metadata": {},
   "outputs": [
    {
     "data": {
      "text/plain": [
       "-9.0"
      ]
     },
     "execution_count": 60,
     "metadata": {},
     "output_type": "execute_result"
    }
   ],
   "source": [
    "np.min(mat1)"
   ]
  },
  {
   "cell_type": "code",
   "execution_count": null,
   "metadata": {},
   "outputs": [],
   "source": []
  },
  {
   "cell_type": "code",
   "execution_count": null,
   "metadata": {},
   "outputs": [],
   "source": []
  }
 ],
 "metadata": {
  "kernelspec": {
   "display_name": "Python 3",
   "language": "python",
   "name": "python3"
  },
  "language_info": {
   "codemirror_mode": {
    "name": "ipython",
    "version": 3
   },
   "file_extension": ".py",
   "mimetype": "text/x-python",
   "name": "python",
   "nbconvert_exporter": "python",
   "pygments_lexer": "ipython3",
   "version": "3.7.4"
  }
 },
 "nbformat": 4,
 "nbformat_minor": 2
}
